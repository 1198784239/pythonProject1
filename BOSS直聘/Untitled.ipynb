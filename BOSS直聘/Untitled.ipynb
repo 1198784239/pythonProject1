{
 "cells": [
  {
   "cell_type": "code",
   "execution_count": 67,
   "id": "2241fa01-e3ff-452e-bbbf-79c63f968e9e",
   "metadata": {},
   "source": [
    "import pandas as pd\n",
    "#显示在页面上\n",
    "from pyecharts.globals import CurrentConfig, NotebookType\n",
    "CurrentConfig.NOTEBOOK_TYPE = NotebookType.JUPYTER_LAB\n",
    "from pyecharts.globals import CurrentConfig, NotebookType\n",
    "CurrentConfig.NOTEBOOK_TYPE = NotebookType.JUPYTER_LAB\n",
    "CurrentConfig.ONLINE_HOST\n"
   ],
   "outputs": []
  },
  {
   "cell_type": "code",
   "execution_count": 3,
   "id": "c4ecf7bc-92df-4ed7-9b82-f762c5b8b516",
   "metadata": {},
   "source": [
    "df =pd.read_csv('boss.csv')\n",
    "df.head()"
   ],
   "outputs": []
  },
  {
   "cell_type": "code",
   "execution_count": 9,
   "id": "c380d458-a01f-4b84-ae36-a837e32f9fb5",
   "metadata": {},
   "source": [
    "df.info()"
   ],
   "outputs": []
  },
  {
   "cell_type": "code",
   "execution_count": 10,
   "id": "2337a52d-2078-424a-b28e-78eb91a15166",
   "metadata": {},
   "source": [
    "df.info()"
   ],
   "outputs": []
  },
  {
   "cell_type": "code",
   "execution_count": 7,
   "id": "c14c6e16-32b4-4b5b-b9aa-ac5124df5cba",
   "metadata": {},
   "source": [
    "df['地点']=df['地点'].fillna('南京市')"
   ],
   "outputs": []
  },
  {
   "cell_type": "code",
   "execution_count": 12,
   "id": "71c691f7-5ace-470f-8c0d-149b8b8b9267",
   "metadata": {},
   "source": [
    "df.head()"
   ],
   "outputs": []
  },
  {
   "cell_type": "code",
   "execution_count": 21,
   "id": "362058ce-93c4-48cc-803f-ae5b8f99469a",
   "metadata": {},
   "source": [
    "import pyecharts.options as opts\n",
    "from pyecharts.charts import Line \n",
    "\"\"\"\n",
    "Gallery 使用 pyecharts 1.1.0\n",
    "参考地址: https://echarts.apache.org/examples/editor.html?c=line-smooth\n",
    "\n",
    "目前无法实现的功能:\n",
    "\n",
    "暂无\n",
    "\"\"\"\n",
    "\n",
    "\n",
    "# x_data = [\"Mon\", \"Tue\", \"Wed\", \"Thu\", \"Fri\", \"Sat\", \"Sun\"]\n",
    "# y_data = [820, 932, 901, 934, 1290, 1330, 1320]\n",
    "\n",
    "\n",
    "(\n",
    "    Line()\n",
    "    .set_global_opts(\n",
    "        tooltip_opts=opts.TooltipOpts(is_show=False),\n",
    "        xaxis_opts=opts.AxisOpts(type_=\"category\"),\n",
    "        yaxis_opts=opts.AxisOpts(\n",
    "            type_=\"value\",\n",
    "            axistick_opts=opts.AxisTickOpts(is_show=True),\n",
    "            splitline_opts=opts.SplitLineOpts(is_show=True),\n",
    "        ),\n",
    "    )\n",
    "    .add_xaxis(xaxis_data=x_data)\n",
    "    .add_yaxis(\n",
    "        series_name=\"工作分类统计表\",\n",
    "        y_axis=y_data,\n",
    "        symbol=\"emptyCircle\",\n",
    "        is_symbol_show=True,\n",
    "        is_smooth=True,\n",
    "        label_opts=opts.LabelOpts(is_show=False),\n",
    "    )\n",
    "    .render(\"smoothed_line_chart.html\")\n",
    ")\n"
   ],
   "outputs": []
  },
  {
   "cell_type": "code",
   "execution_count": 13,
   "id": "fab1b2e1-4d9e-4320-b64c-fdc1535b9378",
   "metadata": {},
   "source": [
    "df['工作'].value_counts()"
   ],
   "outputs": []
  },
  {
   "cell_type": "code",
   "execution_count": 16,
   "id": "776b2626-2589-476f-8d66-9ae9176eadff",
   "metadata": {},
   "source": [
    "df['工作'].value_counts().index"
   ],
   "outputs": []
  },
  {
   "cell_type": "code",
   "execution_count": 17,
   "id": "524ef2e0-4656-4997-b0fd-3eba2f4ca995",
   "metadata": {},
   "source": [
    "df['工作'].value_counts().index.tolist()"
   ],
   "outputs": []
  },
  {
   "cell_type": "code",
   "execution_count": 18,
   "id": "e57c9465-027a-4f5e-b1bf-6ede2b212d3d",
   "metadata": {},
   "source": [
    "df['工作'].value_counts().tolist()"
   ],
   "outputs": []
  },
  {
   "cell_type": "code",
   "execution_count": 20,
   "id": "efac74b3-f869-4f1f-abd7-757f6c12a8c1",
   "metadata": {},
   "source": [
    "x_data = df['工作'].value_counts().index.tolist()\n",
    "y_data = df['工作'].value_counts().tolist()"
   ],
   "outputs": []
  },
  {
   "cell_type": "code",
   "execution_count": 8,
   "id": "26091641-817c-48aa-b611-7d179c27c1e2",
   "metadata": {},
   "source": [
    "df['地点']"
   ],
   "outputs": []
  },
  {
   "cell_type": "code",
   "execution_count": 8,
   "id": "bf4e608b-39b0-4362-bc52-77db4a5d0dd6",
   "metadata": {},
   "source": [
    "df['地点']"
   ],
   "outputs": []
  },
  {
   "cell_type": "code",
   "execution_count": 26,
   "id": "730dcc66-1822-462c-9660-09470218284c",
   "metadata": {},
   "source": [
    "z =df['地点'].value_counts()[:3]\n",
    "#前3"
   ],
   "outputs": []
  },
  {
   "cell_type": "code",
   "execution_count": 88,
   "id": "23cec0b4-3b3c-40ce-aabb-dbbd4c22b269",
   "metadata": {},
   "source": [
    "x = df['地点'].value_counts().index"
   ],
   "outputs": []
  },
  {
   "cell_type": "code",
   "execution_count": 80,
   "id": "261615dd-12ab-42e2-8dce-5ab86876b058",
   "metadata": {},
   "source": [
    "y = df['地点'].value_counts().to_list()\n"
   ],
   "outputs": []
  },
  {
   "cell_type": "code",
   "execution_count": 47,
   "id": "6adf9e07-75fc-466d-a720-96d1467d9e09",
   "metadata": {},
   "source": [
    "#导入数据，模块\n",
    "from pyecharts import options as opts\n",
    "from pyecharts.charts import Pie\n",
    "from pyecharts.faker import Faker\n",
    "\n",
    "c = (\n",
    "    Pie()\n",
    "    .add(\n",
    "        \"\",\n",
    "        #传入数据\n",
    "        [list(z) for z in zip(x, y)],\n",
    "        radius=[\"40%\", \"55%\"],\n",
    "        label_opts=opts.LabelOpts(\n",
    "            position=\"outside\",\n",
    "            formatter=\"{a|{a}}{abg|}\\n{hr|}\\n {b|{b}: }{c}  {per|{d}%}  \",\n",
    "            background_color=\"#eee\",\n",
    "            border_color=\"#aaa\",\n",
    "            border_width=1,\n",
    "            border_radius=4,\n",
    "            #调整格式\n",
    "            rich={\n",
    "                \"a\": {\"color\": \"#999\", \"lineHeight\": 22, \"align\": \"center\"},\n",
    "                \"abg\": {\n",
    "                    \"backgroundColor\": \"#e3e3e3\",\n",
    "                    \"width\": \"100%\",\n",
    "                    \"align\": \"right\",\n",
    "                    \"height\": 22,\n",
    "                    \"borderRadius\": [4, 4, 0, 0],\n",
    "                },\n",
    "                \"hr\": {\n",
    "                    \"borderColor\": \"#aaa\",\n",
    "                    \"width\": \"100%\",\n",
    "                    \"borderWidth\": 0.5,\n",
    "                    \"height\": 0,\n",
    "                },\n",
    "                \"b\": {\"fontSize\": 16, \"lineHeight\": 33},\n",
    "                \"per\": {\n",
    "                    \"color\": \"#eee\",\n",
    "                    \"backgroundColor\": \"#334455\",\n",
    "                    \"padding\": [2, 4],\n",
    "                    \"borderRadius\": 2,\n",
    "                },\n",
    "            },\n",
    "        ),\n",
    "    )\n",
    "    #标题\n",
    "    .set_global_opts(title_opts=opts.TitleOpts(title=\"d地域分布图\"))\n",
    "    #保存html\n",
    "    # .render(\"pie_rich_label.html\")\n",
    ")\n",
    "c.load_javascript()\n",
    "# print(Faker.choose())\n",
    "\n"
   ],
   "outputs": []
  },
  {
   "cell_type": "code",
   "execution_count": 48,
   "id": "3850e423-3bc7-41a6-81da-8b5c798a0d75",
   "metadata": {},
   "source": [
    "c.render_notebook()"
   ],
   "outputs": []
  },
  {
   "cell_type": "code",
   "execution_count": 97,
   "id": "b42e7aff-d73d-47fd-96fa-d8fa43d40c46",
   "metadata": {},
   "source": [
    "import pyecharts.options as opts\n",
    "from pyecharts.charts import Line\n",
    "from pyecharts.faker import Faker\n",
    "print(x.tolist())\n",
    "a =x.tolist()\n",
    "c = (\n",
    "    Line()\n",
    "    .add_xaxis(a)\n",
    "    .add_yaxis(\"商家A\", y, is_connect_nones=True)\n",
    "    .set_global_opts(title_opts=opts.TitleOpts(title=\"Line-连接空数据\"))\n",
    "    .render(\"line_connect_null.html\")\n",
    ")\n"
   ],
   "outputs": []
  },
  {
   "cell_type": "code",
   "execution_count": 77,
   "id": "17b017b2-03e7-4d81-8d91-3a37da7bffa9",
   "metadata": {},
   "source": [],
   "outputs": []
  },
  {
   "cell_type": "code",
   "execution_count": null,
   "id": "db87032c-5e53-4697-83f2-c7edbcdb7d59",
   "metadata": {},
   "source": [],
   "outputs": []
  }
 ],
 "metadata": {
  "kernelspec": {
   "display_name": "Python 3 (ipykernel)",
   "language": "python",
   "name": "python3"
  },
  "language_info": {
   "codemirror_mode": {
    "name": "ipython",
    "version": 3
   },
   "file_extension": ".py",
   "mimetype": "text/x-python",
   "name": "python",
   "nbconvert_exporter": "python",
   "pygments_lexer": "ipython3",
   "version": "3.12.3"
  }
 },
 "nbformat": 4,
 "nbformat_minor": 5
}
